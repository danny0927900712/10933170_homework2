{
  "nbformat": 4,
  "nbformat_minor": 0,
  "metadata": {
    "colab": {
      "provenance": [],
      "authorship_tag": "ABX9TyP8a9C9b6S+CY7CBdLOkzwj",
      "include_colab_link": true
    },
    "kernelspec": {
      "name": "python3",
      "display_name": "Python 3"
    },
    "language_info": {
      "name": "python"
    }
  },
  "cells": [
    {
      "cell_type": "markdown",
      "metadata": {
        "id": "view-in-github",
        "colab_type": "text"
      },
      "source": [
        "<a href=\"https://colab.research.google.com/github/danny0927900712/10933170_homework2/blob/main/Untitled1.ipynb\" target=\"_parent\"><img src=\"https://colab.research.google.com/assets/colab-badge.svg\" alt=\"Open In Colab\"/></a>"
      ]
    },
    {
      "cell_type": "code",
      "source": [
        "                                                import pygame\n",
        "                                                import random\n",
        "\n",
        "                                                pygame.init()\n",
        "\n",
        "                                                window_width = 800\n",
        "                                                window_height = 600\n",
        "\n",
        "                                                black = pygame.Color(0, 0, 0)\n",
        "                                                white = pygame.Color(255, 255, 255)\n",
        "                                                red = pygame.Color(255, 0, 0)\n",
        "                                                green = pygame.Color(0, 255, 0)\n",
        "                                                blue = pygame.Color(0, 0, 255)\n",
        "\n",
        "                                                game_window = pygame.display.set_mode((window_width, window_height))\n",
        "                                                pygame.display.set_caption('貪食蛇遊戲')\n",
        "\n",
        "                                                clock = pygame.time.Clock()\n",
        "\n",
        "                                                snake_position = [100, 50]\n",
        "                                                snake_body = [[100, 50], [90, 50], [80, 50]]\n",
        "                                                food_position = [random.randrange(1, (window_width//10)) * 10,\n",
        "                                                                random.randrange(1, (window_height//10)) * 10]\n",
        "                                                food_spawn = True\n",
        "                                                direction = 'RIGHT'\n",
        "                                                change_to = direction\n",
        "                                                score = 0\n",
        "\n",
        "                                                def game_over():\n",
        "                                                    font = pygame.font.SysFont(None, 40)\n",
        "                                                    text = font.render('遊戲結束，你的得分：' + str(score), True, red)\n",
        "                                                    game_window.blit(text, (window_width // 6, window_height // 3))\n",
        "                                                    pygame.display.flip()\n",
        "                                                    pygame.time.wait(2000)\n",
        "                                                    pygame.quit()\n",
        "                                                    quit()\n",
        "\n",
        "                                                while True:\n",
        "\n",
        "                                                  for event in pygame.event.get():\n",
        "                                                        if event.type == pygame.QUIT:\n",
        "                                                            pygame.quit()\n",
        "                                                            quit()\n",
        "                                                        elif event.type == pygame.KEYDOWN:\n",
        "                                                            if event.key == pygame.K_RIGHT:\n",
        "                                                                change_to = 'RIGHT'\n",
        "                                                            if event.key == pygame.K_LEFT:\n",
        "                                                                change_to = 'LEFT'\n",
        "                                                            if event.key == pygame.K_UP:\n",
        "                                                                change_to = 'UP'\n",
        "                                                            if event.key == pygame.K_DOWN:\n",
        "                                                                change_to = 'DOWN'\n",
        "\n",
        "                                                    if change_to == 'RIGHT' and direction != 'LEFT':\n",
        "                                                        direction = 'RIGHT'\n",
        "                                                    if change_to == 'LEFT' and direction != 'RIGHT':\n",
        "                                                        direction = 'LEFT'\n",
        "                                                    if change_to == 'UP' and direction != 'DOWN':\n",
        "                                                        direction = 'UP'\n",
        "                                                    if change_to == 'DOWN' and direction != 'UP':\n",
        "                                                        direction = 'DOWN'\n",
        "\n",
        "                                                    if direction == 'RIGHT':\n",
        "                                                        snake_position[0] += 10\n",
        "                                                    if direction == 'LEFT':\n",
        "                                                        snake_position[0] -= 10\n",
        "                                                    if direction == 'UP':\n",
        "                                                        snake_position[1] -= 10\n",
        "                                                    if direction == 'DOWN':\n",
        "                                                        snake_position[1] += 10\n",
        "\n",
        "                                                    snake_body.insert(0, list(snake_position))\n",
        "                                                    if snake_position[0] == food_position[0] and snake_position[1] == food_position[1]:\n",
        "                                                        score += 1\n",
        "                                                        food_spawn = False\n",
        "                                                    else:\n",
        "                                                        snake_body.pop()\n",
        "\n",
        "                                                    if not food_spawn:\n",
        "                                                        food_position = [random.randrange(1, (window_width//10)) * 10,\n",
        "                                                                        random.randrange(1, (window_height//10)) * 10]\n",
        "                                                    food_spawn = True\n",
        "\n",
        "                                                    game_window.fill(black)\n",
        "                                                    for pos in snake_body:\n",
        "                                                        pygame.draw.rect(game_window, green, pygame.Rect(\n",
        "                                                            pos[0], pos[1], 10, 10))\n",
        "                                                    pygame.draw.rect(game_window, white, pygame.Rect(\n",
        "                                                        food_position[0], food_position[1], 10, 10))\n",
        "\n",
        "                                                    if snake_position[0] < 0 or snake_position[0] > window_width-10:\n",
        "                                                        game_over()\n",
        "                                                    if snake_position[1] < 0 or snake_position[1] > window_height-10:\n",
        "                                                        game_over()\n",
        "                                                    for block in snake_body[1:]:\n",
        "                                                        if snake_position[0] == block[0] and snake_position[1] == block[1]:\n",
        "                                                            game_over()\n",
        "\n",
        "                                                pygame.display.flip()\n",
        "\n",
        "                                                clock.tick(20)\n"
      ],
      "metadata": {
        "colab": {
          "base_uri": "https://localhost:8080/",
          "height": 134
        },
        "id": "va9h-4WJHkx3",
        "outputId": "5f5f908b-358b-49e0-bf5a-8a1fc955dcd3"
      },
      "execution_count": 4,
      "outputs": [
        {
          "output_type": "error",
          "ename": "IndentationError",
          "evalue": "ignored",
          "traceback": [
            "\u001b[0;36m  File \u001b[0;32m\"<tokenize>\"\u001b[0;36m, line \u001b[0;32m54\u001b[0m\n\u001b[0;31m    if change_to == 'RIGHT' and direction != 'LEFT':\u001b[0m\n\u001b[0m    ^\u001b[0m\n\u001b[0;31mIndentationError\u001b[0m\u001b[0;31m:\u001b[0m unindent does not match any outer indentation level\n"
          ]
        }
      ]
    }
  ]
}