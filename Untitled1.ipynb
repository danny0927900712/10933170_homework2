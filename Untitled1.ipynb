{
  "nbformat": 4,
  "nbformat_minor": 0,
  "metadata": {
    "colab": {
      "provenance": [],
      "authorship_tag": "ABX9TyM6l0ZhOaLZdADQqyKN4bR0",
      "include_colab_link": true
    },
    "kernelspec": {
      "name": "python3",
      "display_name": "Python 3"
    },
    "language_info": {
      "name": "python"
    }
  },
  "cells": [
    {
      "cell_type": "markdown",
      "metadata": {
        "id": "view-in-github",
        "colab_type": "text"
      },
      "source": [
        "<a href=\"https://colab.research.google.com/github/danny0927900712/10933170_homework2/blob/main/Untitled1.ipynb\" target=\"_parent\"><img src=\"https://colab.research.google.com/assets/colab-badge.svg\" alt=\"Open In Colab\"/></a>"
      ]
    },
    {
      "cell_type": "code",
      "execution_count": 1,
      "metadata": {
        "colab": {
          "base_uri": "https://localhost:8080/"
        },
        "id": "jthEBer3GbWq",
        "outputId": "3424f13e-1a56-4dfe-bb71-f622921a8a9c"
      },
      "outputs": [
        {
          "output_type": "stream",
          "name": "stdout",
          "text": [
            "(1, 2, 3, 'apple', 'banana', True)\n",
            "1\n",
            "apple\n",
            "1\n",
            "(3, 'apple', 'banana')\n",
            "1\n",
            "apple\n",
            "2\n",
            "(3, 'apple', 'banana')\n",
            "1\n",
            "apple\n",
            "3\n",
            "(3, 'apple', 'banana')\n",
            "1\n",
            "apple\n",
            "apple\n",
            "(3, 'apple', 'banana')\n",
            "1\n",
            "apple\n",
            "banana\n",
            "(3, 'apple', 'banana')\n",
            "1\n",
            "apple\n",
            "True\n",
            "(3, 'apple', 'banana')\n",
            "1\n",
            "apple\n"
          ]
        }
      ],
      "source": [
        "my_tuple = (1, 2, 3, \"apple\", \"banana\", True)\n",
        "print(my_tuple)\n",
        "print(my_tuple[0])\n",
        "print(my_tuple[3])\n",
        "\n",
        "for item in my_tuple:\n",
        "    print(item)\n",
        "\n",
        "    print(my_tuple[2:5])\n",
        "\n",
        "    a, b, c, fruit1, fruit2, flag = my_tuple\n",
        "    print(a)\n",
        "    print(fruit1)"
      ]
    }
  ]
}